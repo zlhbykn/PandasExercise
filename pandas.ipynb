{
 "cells": [
  {
   "cell_type": "code",
   "execution_count": 1,
   "id": "fbd52259-a583-45cf-ba19-a000410b6ffe",
   "metadata": {},
   "outputs": [],
   "source": [
    "import numpy as np\n",
    "import pandas as pd\n",
    "import warnings\n",
    "warnings.filterwarnings('ignore')"
   ]
  },
  {
   "cell_type": "code",
   "execution_count": null,
   "id": "12ac7bd9-94d9-4c56-8108-358d2d13a196",
   "metadata": {},
   "outputs": [],
   "source": [
    "# Series"
   ]
  },
  {
   "cell_type": "code",
   "execution_count": 2,
   "id": "334ffd60-b291-4f55-8863-0dd926809a9c",
   "metadata": {},
   "outputs": [
    {
     "data": {
      "text/plain": [
       "Series([], dtype: object)"
      ]
     },
     "execution_count": 2,
     "metadata": {},
     "output_type": "execute_result"
    }
   ],
   "source": [
    "pd.Series()"
   ]
  },
  {
   "cell_type": "code",
   "execution_count": 3,
   "id": "db8fbf2e-a622-4f53-a464-c1bf1d2ecb96",
   "metadata": {},
   "outputs": [],
   "source": [
    "liste = [1,2,3,4,5]"
   ]
  },
  {
   "cell_type": "code",
   "execution_count": 4,
   "id": "772765f4-ea6c-4e07-9381-54108ea9ef33",
   "metadata": {},
   "outputs": [
    {
     "data": {
      "text/plain": [
       "0    1\n",
       "1    2\n",
       "2    3\n",
       "3    4\n",
       "4    5\n",
       "dtype: int64"
      ]
     },
     "execution_count": 4,
     "metadata": {},
     "output_type": "execute_result"
    }
   ],
   "source": [
    "seri = pd.Series(liste)\n",
    "seri"
   ]
  },
  {
   "cell_type": "code",
   "execution_count": 5,
   "id": "ab182f16-3c2e-4d18-bf9a-ed2c84f72a46",
   "metadata": {},
   "outputs": [
    {
     "data": {
      "text/plain": [
       "pandas.core.series.Series"
      ]
     },
     "execution_count": 5,
     "metadata": {},
     "output_type": "execute_result"
    }
   ],
   "source": [
    "type(seri)"
   ]
  },
  {
   "cell_type": "code",
   "execution_count": 6,
   "id": "86caf482-48da-4683-a753-83d07f9d2fb4",
   "metadata": {},
   "outputs": [
    {
     "data": {
      "text/plain": [
       "dtype('int64')"
      ]
     },
     "execution_count": 6,
     "metadata": {},
     "output_type": "execute_result"
    }
   ],
   "source": [
    "seri.dtype"
   ]
  },
  {
   "cell_type": "code",
   "execution_count": 7,
   "id": "8f8a4708-9545-4655-a77f-9d27100ca8e0",
   "metadata": {},
   "outputs": [
    {
     "data": {
      "text/plain": [
       "array(['1', '2', '5.6', 'array'], dtype='<U32')"
      ]
     },
     "execution_count": 7,
     "metadata": {},
     "output_type": "execute_result"
    }
   ],
   "source": [
    "arr = np.array([1,2,5.6,'array'])\n",
    "arr"
   ]
  },
  {
   "cell_type": "code",
   "execution_count": 9,
   "id": "6be88ac8-a8ad-4759-9ccf-d2c3aba0b7e3",
   "metadata": {},
   "outputs": [
    {
     "data": {
      "text/plain": [
       "0        1\n",
       "1        2\n",
       "2      5.6\n",
       "3    array\n",
       "dtype: object"
      ]
     },
     "execution_count": 9,
     "metadata": {},
     "output_type": "execute_result"
    }
   ],
   "source": [
    "seri = pd.Series([1,2,5.6,'array'])\n",
    "seri"
   ]
  },
  {
   "cell_type": "code",
   "execution_count": 10,
   "id": "3ed1ff02-14e0-417b-b13c-738690ef3997",
   "metadata": {},
   "outputs": [
    {
     "data": {
      "text/plain": [
       "0      <class 'int'>\n",
       "1      <class 'int'>\n",
       "2    <class 'float'>\n",
       "3      <class 'str'>\n",
       "dtype: object"
      ]
     },
     "execution_count": 10,
     "metadata": {},
     "output_type": "execute_result"
    }
   ],
   "source": [
    "seri.apply(type)"
   ]
  },
  {
   "cell_type": "code",
   "execution_count": 12,
   "id": "8867fe21-22fc-4f2c-859b-5bb00bbaa7d1",
   "metadata": {},
   "outputs": [
    {
     "data": {
      "text/plain": [
       "0    1\n",
       "1    2\n",
       "2    3\n",
       "3    8\n",
       "dtype: int64"
      ]
     },
     "execution_count": 12,
     "metadata": {},
     "output_type": "execute_result"
    }
   ],
   "source": [
    "seri = pd.Series([1,2,3.7,8.9]).astype(int)\n",
    "seri"
   ]
  },
  {
   "cell_type": "code",
   "execution_count": 13,
   "id": "9069238b-f439-4169-8490-35c9badcd7b4",
   "metadata": {
    "collapsed": true,
    "jupyter": {
     "outputs_hidden": true
    }
   },
   "outputs": [
    {
     "ename": "ValueError",
     "evalue": "Trying to coerce float values to integers",
     "output_type": "error",
     "traceback": [
      "\u001b[31m---------------------------------------------------------------------------\u001b[39m",
      "\u001b[31mValueError\u001b[39m                                Traceback (most recent call last)",
      "\u001b[36mCell\u001b[39m\u001b[36m \u001b[39m\u001b[32mIn[13]\u001b[39m\u001b[32m, line 1\u001b[39m\n\u001b[32m----> \u001b[39m\u001b[32m1\u001b[39m seri2 = \u001b[43mpd\u001b[49m\u001b[43m.\u001b[49m\u001b[43mSeries\u001b[49m\u001b[43m(\u001b[49m\u001b[43m[\u001b[49m\u001b[32;43m1\u001b[39;49m\u001b[43m,\u001b[49m\u001b[32;43m2\u001b[39;49m\u001b[43m,\u001b[49m\u001b[32;43m3.7\u001b[39;49m\u001b[43m,\u001b[49m\u001b[32;43m8.9\u001b[39;49m\u001b[43m]\u001b[49m\u001b[43m,\u001b[49m\u001b[43m \u001b[49m\u001b[43mdtype\u001b[49m\u001b[43m \u001b[49m\u001b[43m=\u001b[49m\u001b[43m \u001b[49m\u001b[33;43m'\u001b[39;49m\u001b[33;43mint32\u001b[39;49m\u001b[33;43m'\u001b[39;49m\u001b[43m)\u001b[49m\n\u001b[32m      2\u001b[39m seri2\n",
      "\u001b[36mFile \u001b[39m\u001b[32m~\\anaconda3\\Lib\\site-packages\\pandas\\core\\series.py:584\u001b[39m, in \u001b[36mSeries.__init__\u001b[39m\u001b[34m(self, data, index, dtype, name, copy, fastpath)\u001b[39m\n\u001b[32m    582\u001b[39m         data = data.copy()\n\u001b[32m    583\u001b[39m \u001b[38;5;28;01melse\u001b[39;00m:\n\u001b[32m--> \u001b[39m\u001b[32m584\u001b[39m     data = \u001b[43msanitize_array\u001b[49m\u001b[43m(\u001b[49m\u001b[43mdata\u001b[49m\u001b[43m,\u001b[49m\u001b[43m \u001b[49m\u001b[43mindex\u001b[49m\u001b[43m,\u001b[49m\u001b[43m \u001b[49m\u001b[43mdtype\u001b[49m\u001b[43m,\u001b[49m\u001b[43m \u001b[49m\u001b[43mcopy\u001b[49m\u001b[43m)\u001b[49m\n\u001b[32m    586\u001b[39m     manager = _get_option(\u001b[33m\"\u001b[39m\u001b[33mmode.data_manager\u001b[39m\u001b[33m\"\u001b[39m, silent=\u001b[38;5;28;01mTrue\u001b[39;00m)\n\u001b[32m    587\u001b[39m     \u001b[38;5;28;01mif\u001b[39;00m manager == \u001b[33m\"\u001b[39m\u001b[33mblock\u001b[39m\u001b[33m\"\u001b[39m:\n",
      "\u001b[36mFile \u001b[39m\u001b[32m~\\anaconda3\\Lib\\site-packages\\pandas\\core\\construction.py:651\u001b[39m, in \u001b[36msanitize_array\u001b[39m\u001b[34m(data, index, dtype, copy, allow_2d)\u001b[39m\n\u001b[32m    648\u001b[39m     subarr = np.array([], dtype=np.float64)\n\u001b[32m    650\u001b[39m \u001b[38;5;28;01melif\u001b[39;00m dtype \u001b[38;5;129;01mis\u001b[39;00m \u001b[38;5;129;01mnot\u001b[39;00m \u001b[38;5;28;01mNone\u001b[39;00m:\n\u001b[32m--> \u001b[39m\u001b[32m651\u001b[39m     subarr = \u001b[43m_try_cast\u001b[49m\u001b[43m(\u001b[49m\u001b[43mdata\u001b[49m\u001b[43m,\u001b[49m\u001b[43m \u001b[49m\u001b[43mdtype\u001b[49m\u001b[43m,\u001b[49m\u001b[43m \u001b[49m\u001b[43mcopy\u001b[49m\u001b[43m)\u001b[49m\n\u001b[32m    653\u001b[39m \u001b[38;5;28;01melse\u001b[39;00m:\n\u001b[32m    654\u001b[39m     subarr = maybe_convert_platform(data)\n",
      "\u001b[36mFile \u001b[39m\u001b[32m~\\anaconda3\\Lib\\site-packages\\pandas\\core\\construction.py:818\u001b[39m, in \u001b[36m_try_cast\u001b[39m\u001b[34m(arr, dtype, copy)\u001b[39m\n\u001b[32m    813\u001b[39m \u001b[38;5;66;03m# GH#15832: Check if we are requesting a numeric dtype and\u001b[39;00m\n\u001b[32m    814\u001b[39m \u001b[38;5;66;03m# that we can convert the data to the requested dtype.\u001b[39;00m\n\u001b[32m    815\u001b[39m \u001b[38;5;28;01melif\u001b[39;00m dtype.kind \u001b[38;5;129;01min\u001b[39;00m \u001b[33m\"\u001b[39m\u001b[33miu\u001b[39m\u001b[33m\"\u001b[39m:\n\u001b[32m    816\u001b[39m     \u001b[38;5;66;03m# this will raise if we have e.g. floats\u001b[39;00m\n\u001b[32m--> \u001b[39m\u001b[32m818\u001b[39m     subarr = \u001b[43mmaybe_cast_to_integer_array\u001b[49m\u001b[43m(\u001b[49m\u001b[43marr\u001b[49m\u001b[43m,\u001b[49m\u001b[43m \u001b[49m\u001b[43mdtype\u001b[49m\u001b[43m)\u001b[49m\n\u001b[32m    819\u001b[39m \u001b[38;5;28;01melif\u001b[39;00m \u001b[38;5;129;01mnot\u001b[39;00m copy:\n\u001b[32m    820\u001b[39m     subarr = np.asarray(arr, dtype=dtype)\n",
      "\u001b[36mFile \u001b[39m\u001b[32m~\\anaconda3\\Lib\\site-packages\\pandas\\core\\dtypes\\cast.py:1699\u001b[39m, in \u001b[36mmaybe_cast_to_integer_array\u001b[39m\u001b[34m(arr, dtype)\u001b[39m\n\u001b[32m   1695\u001b[39m     \u001b[38;5;28;01mif\u001b[39;00m \u001b[38;5;129;01mnot\u001b[39;00m np.isfinite(arr).all():\n\u001b[32m   1696\u001b[39m         \u001b[38;5;28;01mraise\u001b[39;00m IntCastingNaNError(\n\u001b[32m   1697\u001b[39m             \u001b[33m\"\u001b[39m\u001b[33mCannot convert non-finite values (NA or inf) to integer\u001b[39m\u001b[33m\"\u001b[39m\n\u001b[32m   1698\u001b[39m         )\n\u001b[32m-> \u001b[39m\u001b[32m1699\u001b[39m     \u001b[38;5;28;01mraise\u001b[39;00m \u001b[38;5;167;01mValueError\u001b[39;00m(\u001b[33m\"\u001b[39m\u001b[33mTrying to coerce float values to integers\u001b[39m\u001b[33m\"\u001b[39m)\n\u001b[32m   1700\u001b[39m \u001b[38;5;28;01mif\u001b[39;00m arr.dtype == \u001b[38;5;28mobject\u001b[39m:\n\u001b[32m   1701\u001b[39m     \u001b[38;5;28;01mraise\u001b[39;00m \u001b[38;5;167;01mValueError\u001b[39;00m(\u001b[33m\"\u001b[39m\u001b[33mTrying to coerce float values to integers\u001b[39m\u001b[33m\"\u001b[39m)\n",
      "\u001b[31mValueError\u001b[39m: Trying to coerce float values to integers"
     ]
    }
   ],
   "source": [
    "seri2 = pd.Series([1,2,3.7,8.9], dtype = 'int32')\n",
    "seri2 # veri kaybı olacağı için hata verir"
   ]
  },
  {
   "cell_type": "code",
   "execution_count": 14,
   "id": "cea439d0-86fe-4dcc-9295-549229b3bc61",
   "metadata": {},
   "outputs": [
    {
     "data": {
      "text/plain": [
       "0      1\n",
       "1      2\n",
       "2    3.7\n",
       "3    8.9\n",
       "dtype: object"
      ]
     },
     "execution_count": 14,
     "metadata": {},
     "output_type": "execute_result"
    }
   ],
   "source": [
    "seri3 = pd.Series([1,2,3.7,8.9], dtype = str)\n",
    "seri3"
   ]
  },
  {
   "cell_type": "code",
   "execution_count": 15,
   "id": "a439a240-d7eb-4eaf-bac8-6ae5cb3ec686",
   "metadata": {},
   "outputs": [
    {
     "data": {
      "text/plain": [
       "0    1.0\n",
       "1    2.0\n",
       "2    3.7\n",
       "3    8.9\n",
       "dtype: float64"
      ]
     },
     "execution_count": 15,
     "metadata": {},
     "output_type": "execute_result"
    }
   ],
   "source": [
    "seri4 = pd.Series([1,2,3.7,8.9], dtype = float)\n",
    "seri4"
   ]
  },
  {
   "cell_type": "code",
   "execution_count": 16,
   "id": "df0eff1b-8002-4306-9537-9a360e6d2550",
   "metadata": {},
   "outputs": [
    {
     "data": {
      "text/plain": [
       "0    1.0\n",
       "1    2.0\n",
       "2    3.7\n",
       "3    8.9\n",
       "dtype: float64"
      ]
     },
     "execution_count": 16,
     "metadata": {},
     "output_type": "execute_result"
    }
   ],
   "source": [
    "seri4 = pd.Series([1,2,3.7,8.9])\n",
    "seri4"
   ]
  },
  {
   "cell_type": "code",
   "execution_count": 18,
   "id": "738c17d1-8b73-44a8-952d-e1d2d82ea7ac",
   "metadata": {},
   "outputs": [
    {
     "data": {
      "text/plain": [
       "0    1\n",
       "1    2\n",
       "2    3\n",
       "dtype: int64"
      ]
     },
     "execution_count": 18,
     "metadata": {},
     "output_type": "execute_result"
    }
   ],
   "source": [
    "seri = pd.Series([1,2,3],dtype = int)\n",
    "seri"
   ]
  },
  {
   "cell_type": "code",
   "execution_count": 19,
   "id": "909dced4-089b-4f5e-8077-f192063cab9a",
   "metadata": {},
   "outputs": [
    {
     "data": {
      "text/plain": [
       "a    1\n",
       "b    2\n",
       "c    3\n",
       "d    4\n",
       "e    5\n",
       "dtype: int64"
      ]
     },
     "execution_count": 19,
     "metadata": {},
     "output_type": "execute_result"
    }
   ],
   "source": [
    "seri = pd.Series(data = liste,index = ['a','b','c','d','e'])\n",
    "seri"
   ]
  },
  {
   "cell_type": "code",
   "execution_count": 20,
   "id": "e8d75198-2f0f-4375-b540-4c858aee5595",
   "metadata": {
    "collapsed": true,
    "jupyter": {
     "outputs_hidden": true
    },
    "scrolled": true
   },
   "outputs": [
    {
     "ename": "ValueError",
     "evalue": "Length of values (5) does not match length of index (6)",
     "output_type": "error",
     "traceback": [
      "\u001b[31m---------------------------------------------------------------------------\u001b[39m",
      "\u001b[31mValueError\u001b[39m                                Traceback (most recent call last)",
      "\u001b[36mCell\u001b[39m\u001b[36m \u001b[39m\u001b[32mIn[20]\u001b[39m\u001b[32m, line 1\u001b[39m\n\u001b[32m----> \u001b[39m\u001b[32m1\u001b[39m seri = \u001b[43mpd\u001b[49m\u001b[43m.\u001b[49m\u001b[43mSeries\u001b[49m\u001b[43m(\u001b[49m\u001b[43mdata\u001b[49m\u001b[43m \u001b[49m\u001b[43m=\u001b[49m\u001b[43m \u001b[49m\u001b[43mliste\u001b[49m\u001b[43m,\u001b[49m\u001b[43mindex\u001b[49m\u001b[43m \u001b[49m\u001b[43m=\u001b[49m\u001b[43m \u001b[49m\u001b[43m[\u001b[49m\u001b[33;43m'\u001b[39;49m\u001b[33;43ma\u001b[39;49m\u001b[33;43m'\u001b[39;49m\u001b[43m,\u001b[49m\u001b[33;43m'\u001b[39;49m\u001b[33;43mb\u001b[39;49m\u001b[33;43m'\u001b[39;49m\u001b[43m,\u001b[49m\u001b[33;43m'\u001b[39;49m\u001b[33;43mc\u001b[39;49m\u001b[33;43m'\u001b[39;49m\u001b[43m,\u001b[49m\u001b[33;43m'\u001b[39;49m\u001b[33;43md\u001b[39;49m\u001b[33;43m'\u001b[39;49m\u001b[43m,\u001b[49m\u001b[33;43m'\u001b[39;49m\u001b[33;43me\u001b[39;49m\u001b[33;43m'\u001b[39;49m\u001b[43m,\u001b[49m\u001b[33;43m'\u001b[39;49m\u001b[33;43mf\u001b[39;49m\u001b[33;43m'\u001b[39;49m\u001b[43m]\u001b[49m\u001b[43m)\u001b[49m\n\u001b[32m      2\u001b[39m seri\n",
      "\u001b[36mFile \u001b[39m\u001b[32m~\\anaconda3\\Lib\\site-packages\\pandas\\core\\series.py:575\u001b[39m, in \u001b[36mSeries.__init__\u001b[39m\u001b[34m(self, data, index, dtype, name, copy, fastpath)\u001b[39m\n\u001b[32m    573\u001b[39m     index = default_index(\u001b[38;5;28mlen\u001b[39m(data))\n\u001b[32m    574\u001b[39m \u001b[38;5;28;01melif\u001b[39;00m is_list_like(data):\n\u001b[32m--> \u001b[39m\u001b[32m575\u001b[39m     \u001b[43mcom\u001b[49m\u001b[43m.\u001b[49m\u001b[43mrequire_length_match\u001b[49m\u001b[43m(\u001b[49m\u001b[43mdata\u001b[49m\u001b[43m,\u001b[49m\u001b[43m \u001b[49m\u001b[43mindex\u001b[49m\u001b[43m)\u001b[49m\n\u001b[32m    577\u001b[39m \u001b[38;5;66;03m# create/copy the manager\u001b[39;00m\n\u001b[32m    578\u001b[39m \u001b[38;5;28;01mif\u001b[39;00m \u001b[38;5;28misinstance\u001b[39m(data, (SingleBlockManager, SingleArrayManager)):\n",
      "\u001b[36mFile \u001b[39m\u001b[32m~\\anaconda3\\Lib\\site-packages\\pandas\\core\\common.py:573\u001b[39m, in \u001b[36mrequire_length_match\u001b[39m\u001b[34m(data, index)\u001b[39m\n\u001b[32m    569\u001b[39m \u001b[38;5;250m\u001b[39m\u001b[33;03m\"\"\"\u001b[39;00m\n\u001b[32m    570\u001b[39m \u001b[33;03mCheck the length of data matches the length of the index.\u001b[39;00m\n\u001b[32m    571\u001b[39m \u001b[33;03m\"\"\"\u001b[39;00m\n\u001b[32m    572\u001b[39m \u001b[38;5;28;01mif\u001b[39;00m \u001b[38;5;28mlen\u001b[39m(data) != \u001b[38;5;28mlen\u001b[39m(index):\n\u001b[32m--> \u001b[39m\u001b[32m573\u001b[39m     \u001b[38;5;28;01mraise\u001b[39;00m \u001b[38;5;167;01mValueError\u001b[39;00m(\n\u001b[32m    574\u001b[39m         \u001b[33m\"\u001b[39m\u001b[33mLength of values \u001b[39m\u001b[33m\"\u001b[39m\n\u001b[32m    575\u001b[39m         \u001b[33mf\u001b[39m\u001b[33m\"\u001b[39m\u001b[33m(\u001b[39m\u001b[38;5;132;01m{\u001b[39;00m\u001b[38;5;28mlen\u001b[39m(data)\u001b[38;5;132;01m}\u001b[39;00m\u001b[33m) \u001b[39m\u001b[33m\"\u001b[39m\n\u001b[32m    576\u001b[39m         \u001b[33m\"\u001b[39m\u001b[33mdoes not match length of index \u001b[39m\u001b[33m\"\u001b[39m\n\u001b[32m    577\u001b[39m         \u001b[33mf\u001b[39m\u001b[33m\"\u001b[39m\u001b[33m(\u001b[39m\u001b[38;5;132;01m{\u001b[39;00m\u001b[38;5;28mlen\u001b[39m(index)\u001b[38;5;132;01m}\u001b[39;00m\u001b[33m)\u001b[39m\u001b[33m\"\u001b[39m\n\u001b[32m    578\u001b[39m     )\n",
      "\u001b[31mValueError\u001b[39m: Length of values (5) does not match length of index (6)"
     ]
    }
   ],
   "source": [
    "seri = pd.Series(data = liste,index = ['a','b','c','d','e','f'])\n",
    "seri # verdiğimiz index sayisi daha fazla"
   ]
  },
  {
   "cell_type": "code",
   "execution_count": null,
   "id": "6911f3ad-ab61-4fe7-bae4-84aa517f1a2a",
   "metadata": {},
   "outputs": [],
   "source": [
    "# Numpy arrays"
   ]
  },
  {
   "cell_type": "code",
   "execution_count": 21,
   "id": "da450eb9-cdf2-40a4-9ef6-f25db30963a3",
   "metadata": {},
   "outputs": [
    {
     "data": {
      "text/plain": [
       "array([[ 0,  1,  2],\n",
       "       [ 3,  4,  5],\n",
       "       [ 6,  7,  8],\n",
       "       [ 9, 10, 11]])"
      ]
     },
     "execution_count": 21,
     "metadata": {},
     "output_type": "execute_result"
    }
   ],
   "source": [
    "arr = np.arange(12).reshape(4,3)\n",
    "arr"
   ]
  },
  {
   "cell_type": "code",
   "execution_count": 22,
   "id": "c61bf0dc-8121-4ddf-a522-4eb0d0230c29",
   "metadata": {
    "collapsed": true,
    "jupyter": {
     "outputs_hidden": true
    },
    "scrolled": true
   },
   "outputs": [
    {
     "ename": "ValueError",
     "evalue": "Data must be 1-dimensional, got ndarray of shape (4, 3) instead",
     "output_type": "error",
     "traceback": [
      "\u001b[31m---------------------------------------------------------------------------\u001b[39m",
      "\u001b[31mValueError\u001b[39m                                Traceback (most recent call last)",
      "\u001b[36mCell\u001b[39m\u001b[36m \u001b[39m\u001b[32mIn[22]\u001b[39m\u001b[32m, line 1\u001b[39m\n\u001b[32m----> \u001b[39m\u001b[32m1\u001b[39m seri = \u001b[43mpd\u001b[49m\u001b[43m.\u001b[49m\u001b[43mSeries\u001b[49m\u001b[43m(\u001b[49m\u001b[43mdata\u001b[49m\u001b[43m \u001b[49m\u001b[43m=\u001b[49m\u001b[43m \u001b[49m\u001b[43marr\u001b[49m\u001b[43m)\u001b[49m\n\u001b[32m      2\u001b[39m seri\n",
      "\u001b[36mFile \u001b[39m\u001b[32m~\\anaconda3\\Lib\\site-packages\\pandas\\core\\series.py:584\u001b[39m, in \u001b[36mSeries.__init__\u001b[39m\u001b[34m(self, data, index, dtype, name, copy, fastpath)\u001b[39m\n\u001b[32m    582\u001b[39m         data = data.copy()\n\u001b[32m    583\u001b[39m \u001b[38;5;28;01melse\u001b[39;00m:\n\u001b[32m--> \u001b[39m\u001b[32m584\u001b[39m     data = \u001b[43msanitize_array\u001b[49m\u001b[43m(\u001b[49m\u001b[43mdata\u001b[49m\u001b[43m,\u001b[49m\u001b[43m \u001b[49m\u001b[43mindex\u001b[49m\u001b[43m,\u001b[49m\u001b[43m \u001b[49m\u001b[43mdtype\u001b[49m\u001b[43m,\u001b[49m\u001b[43m \u001b[49m\u001b[43mcopy\u001b[49m\u001b[43m)\u001b[49m\n\u001b[32m    586\u001b[39m     manager = _get_option(\u001b[33m\"\u001b[39m\u001b[33mmode.data_manager\u001b[39m\u001b[33m\"\u001b[39m, silent=\u001b[38;5;28;01mTrue\u001b[39;00m)\n\u001b[32m    587\u001b[39m     \u001b[38;5;28;01mif\u001b[39;00m manager == \u001b[33m\"\u001b[39m\u001b[33mblock\u001b[39m\u001b[33m\"\u001b[39m:\n",
      "\u001b[36mFile \u001b[39m\u001b[32m~\\anaconda3\\Lib\\site-packages\\pandas\\core\\construction.py:659\u001b[39m, in \u001b[36msanitize_array\u001b[39m\u001b[34m(data, index, dtype, copy, allow_2d)\u001b[39m\n\u001b[32m    656\u001b[39m             subarr = cast(np.ndarray, subarr)\n\u001b[32m    657\u001b[39m             subarr = maybe_infer_to_datetimelike(subarr)\n\u001b[32m--> \u001b[39m\u001b[32m659\u001b[39m subarr = \u001b[43m_sanitize_ndim\u001b[49m\u001b[43m(\u001b[49m\u001b[43msubarr\u001b[49m\u001b[43m,\u001b[49m\u001b[43m \u001b[49m\u001b[43mdata\u001b[49m\u001b[43m,\u001b[49m\u001b[43m \u001b[49m\u001b[43mdtype\u001b[49m\u001b[43m,\u001b[49m\u001b[43m \u001b[49m\u001b[43mindex\u001b[49m\u001b[43m,\u001b[49m\u001b[43m \u001b[49m\u001b[43mallow_2d\u001b[49m\u001b[43m=\u001b[49m\u001b[43mallow_2d\u001b[49m\u001b[43m)\u001b[49m\n\u001b[32m    661\u001b[39m \u001b[38;5;28;01mif\u001b[39;00m \u001b[38;5;28misinstance\u001b[39m(subarr, np.ndarray):\n\u001b[32m    662\u001b[39m     \u001b[38;5;66;03m# at this point we should have dtype be None or subarr.dtype == dtype\u001b[39;00m\n\u001b[32m    663\u001b[39m     dtype = cast(np.dtype, dtype)\n",
      "\u001b[36mFile \u001b[39m\u001b[32m~\\anaconda3\\Lib\\site-packages\\pandas\\core\\construction.py:718\u001b[39m, in \u001b[36m_sanitize_ndim\u001b[39m\u001b[34m(result, data, dtype, index, allow_2d)\u001b[39m\n\u001b[32m    716\u001b[39m     \u001b[38;5;28;01mif\u001b[39;00m allow_2d:\n\u001b[32m    717\u001b[39m         \u001b[38;5;28;01mreturn\u001b[39;00m result\n\u001b[32m--> \u001b[39m\u001b[32m718\u001b[39m     \u001b[38;5;28;01mraise\u001b[39;00m \u001b[38;5;167;01mValueError\u001b[39;00m(\n\u001b[32m    719\u001b[39m         \u001b[33mf\u001b[39m\u001b[33m\"\u001b[39m\u001b[33mData must be 1-dimensional, got ndarray of shape \u001b[39m\u001b[38;5;132;01m{\u001b[39;00mdata.shape\u001b[38;5;132;01m}\u001b[39;00m\u001b[33m instead\u001b[39m\u001b[33m\"\u001b[39m\n\u001b[32m    720\u001b[39m     )\n\u001b[32m    721\u001b[39m \u001b[38;5;28;01mif\u001b[39;00m is_object_dtype(dtype) \u001b[38;5;129;01mand\u001b[39;00m \u001b[38;5;28misinstance\u001b[39m(dtype, ExtensionDtype):\n\u001b[32m    722\u001b[39m     \u001b[38;5;66;03m# i.e. NumpyEADtype(\"O\")\u001b[39;00m\n\u001b[32m    724\u001b[39m     result = com.asarray_tuplesafe(data, dtype=np.dtype(\u001b[33m\"\u001b[39m\u001b[33mobject\u001b[39m\u001b[33m\"\u001b[39m))\n",
      "\u001b[31mValueError\u001b[39m: Data must be 1-dimensional, got ndarray of shape (4, 3) instead"
     ]
    }
   ],
   "source": [
    "seri = pd.Series(data = arr)\n",
    "seri # array direk içine yazamayız"
   ]
  },
  {
   "cell_type": "code",
   "execution_count": 23,
   "id": "43ae10c6-0434-4e5b-ab5b-1c087191f18b",
   "metadata": {},
   "outputs": [
    {
     "data": {
      "text/plain": [
       "array([0, 1, 2, 3, 4])"
      ]
     },
     "execution_count": 23,
     "metadata": {},
     "output_type": "execute_result"
    }
   ],
   "source": [
    "arr1 = np.arange(5)\n",
    "arr1"
   ]
  },
  {
   "cell_type": "code",
   "execution_count": 25,
   "id": "8273286e-2a04-4905-81d7-dc8e8debc910",
   "metadata": {},
   "outputs": [
    {
     "data": {
      "text/plain": [
       "0    0\n",
       "1    1\n",
       "2    2\n",
       "3    3\n",
       "4    4\n",
       "dtype: int64"
      ]
     },
     "execution_count": 25,
     "metadata": {},
     "output_type": "execute_result"
    }
   ],
   "source": [
    "seri = pd.Series(arr1)\n",
    "seri # 1. yöntem "
   ]
  },
  {
   "cell_type": "code",
   "execution_count": 26,
   "id": "82eaa449-25d5-4d49-b824-ff321c872dab",
   "metadata": {},
   "outputs": [
    {
     "data": {
      "text/plain": [
       "0    0\n",
       "1    1\n",
       "2    2\n",
       "3    3\n",
       "4    4\n",
       "dtype: int64"
      ]
     },
     "execution_count": 26,
     "metadata": {},
     "output_type": "execute_result"
    }
   ],
   "source": [
    "seri = pd.Series(np.arange(5))\n",
    "seri # 2. yöntem"
   ]
  },
  {
   "cell_type": "code",
   "execution_count": 27,
   "id": "12735e6b-d1e1-4f2d-8da7-446867f9bb2b",
   "metadata": {},
   "outputs": [
    {
     "data": {
      "text/plain": [
       "1    10\n",
       "2    20\n",
       "3    30\n",
       "4    40\n",
       "dtype: int64"
      ]
     },
     "execution_count": 27,
     "metadata": {},
     "output_type": "execute_result"
    }
   ],
   "source": [
    "seri = pd.Series(np.arange(10,50,10), index = [1,2,3,4])\n",
    "seri"
   ]
  },
  {
   "cell_type": "code",
   "execution_count": 28,
   "id": "ee7a97b9-8ca7-46b7-9d32-c060a55ed999",
   "metadata": {},
   "outputs": [
    {
     "data": {
      "text/plain": [
       "1    10\n",
       "2    20\n",
       "3    30\n",
       "4    40\n",
       "dtype: int64"
      ]
     },
     "execution_count": 28,
     "metadata": {},
     "output_type": "execute_result"
    }
   ],
   "source": [
    "seri = pd.Series(np.arange(10,50,10), index = np.arange(1,5))\n",
    "seri"
   ]
  },
  {
   "cell_type": "code",
   "execution_count": 29,
   "id": "c408b679-80ca-4746-94fd-6e58f3481738",
   "metadata": {},
   "outputs": [
    {
     "data": {
      "text/plain": [
       "1    10\n",
       "2    20\n",
       "3    30\n",
       "4    40\n",
       "dtype: int64"
      ]
     },
     "execution_count": 29,
     "metadata": {},
     "output_type": "execute_result"
    }
   ],
   "source": [
    "seri = pd.Series(np.arange(10,50,10), index = ['1','2','3','4'])\n",
    "seri # index i hem tuple hemde liste içinde yazabiliriz"
   ]
  },
  {
   "cell_type": "code",
   "execution_count": 30,
   "id": "df1be349-f6cf-4424-a067-adaef65e3585",
   "metadata": {},
   "outputs": [
    {
     "data": {
      "text/plain": [
       "1    10\n",
       "2    20\n",
       "3    30\n",
       "4    40\n",
       "dtype: int64"
      ]
     },
     "execution_count": 30,
     "metadata": {},
     "output_type": "execute_result"
    }
   ],
   "source": [
    "seri = pd.Series(np.arange(10,50,10), index = ('1','2','3','4'))\n",
    "seri # index i hem tuple hemde liste içinde yazabiliriz"
   ]
  },
  {
   "cell_type": "code",
   "execution_count": 31,
   "id": "54cc9750-383b-4ea4-9e6d-ca228782ebe4",
   "metadata": {},
   "outputs": [
    {
     "data": {
      "text/plain": [
       "1    10\n",
       "2    20\n",
       "3    30\n",
       "4    40\n",
       "dtype: int64"
      ]
     },
     "execution_count": 31,
     "metadata": {},
     "output_type": "execute_result"
    }
   ],
   "source": [
    "seri = pd.Series(np.arange(10,50,10), index = (1,2,3,4))\n",
    "seri"
   ]
  },
  {
   "cell_type": "code",
   "execution_count": null,
   "id": "23920cf6-1f66-4ca3-886e-d51d8d888e00",
   "metadata": {},
   "outputs": [],
   "source": [
    "# Numpy dict"
   ]
  },
  {
   "cell_type": "code",
   "execution_count": 32,
   "id": "e1603b5c-31cb-4b5b-85f2-64979755dd63",
   "metadata": {},
   "outputs": [],
   "source": [
    "dict = { 'resim' : 75, 'fen' : 90, 'mat' : 80}"
   ]
  },
  {
   "cell_type": "code",
   "execution_count": 33,
   "id": "8ff2298b-9080-4088-b76c-fc712a491380",
   "metadata": {},
   "outputs": [
    {
     "data": {
      "text/plain": [
       "resim    75\n",
       "fen      90\n",
       "mat      80\n",
       "dtype: int64"
      ]
     },
     "execution_count": 33,
     "metadata": {},
     "output_type": "execute_result"
    }
   ],
   "source": [
    "seri = pd.Series(dict)\n",
    "seri"
   ]
  },
  {
   "cell_type": "code",
   "execution_count": 36,
   "id": "4f82b0b2-b74e-43de-b6fe-e0fd5e8ba2eb",
   "metadata": {},
   "outputs": [
    {
     "data": {
      "text/plain": [
       "resim    75.0\n",
       "müzik     NaN\n",
       "mat      80.0\n",
       "dtype: float64"
      ]
     },
     "execution_count": 36,
     "metadata": {},
     "output_type": "execute_result"
    }
   ],
   "source": [
    "seri_new = pd.Series(dict, index = ['resim','müzik','mat'])\n",
    "seri_new\n",
    "# NaN değerden dolayı dtype : float oldu\n",
    "# müzik key dict içinde olmadığı için NaN değer döndürdü."
   ]
  },
  {
   "cell_type": "code",
   "execution_count": 37,
   "id": "7da8d8f4-7fdf-48a9-9c70-31fb2568a999",
   "metadata": {},
   "outputs": [
    {
     "data": {
      "text/plain": [
       "resim    75.0\n",
       "müzik     NaN\n",
       "mat      80.0\n",
       "fen      90.0\n",
       "dtype: float64"
      ]
     },
     "execution_count": 37,
     "metadata": {},
     "output_type": "execute_result"
    }
   ],
   "source": [
    "seri_new = pd.Series(dict, index = ['resim','müzik','mat','fen'])\n",
    "seri_new\n",
    "# NaN değerden dolayı dtype : float oldu\n",
    "# müzik key dict içinde olmadığı için NaN değer döndürdü."
   ]
  },
  {
   "cell_type": "code",
   "execution_count": 38,
   "id": "b7d368f3-c29e-47d0-9e2e-501b75542cdf",
   "metadata": {},
   "outputs": [
    {
     "data": {
      "text/plain": [
       "resim    75.0\n",
       "müzik     NaN\n",
       "mat      80.0\n",
       "tarih     NaN\n",
       "dtype: float64"
      ]
     },
     "execution_count": 38,
     "metadata": {},
     "output_type": "execute_result"
    }
   ],
   "source": [
    "seri_new = pd.Series(dict, index = ['resim','müzik','mat','tarih'])\n",
    "seri_new\n",
    "# NaN değerden dolayı dtype : float oldu\n",
    "# müzik key dict içinde olmadığı için NaN değer döndürdü."
   ]
  },
  {
   "cell_type": "code",
   "execution_count": 39,
   "id": "a68f4d86-d983-4b4a-b8cf-05690c32c640",
   "metadata": {},
   "outputs": [
    {
     "data": {
      "text/plain": [
       "resim    75.0\n",
       "müzik     NaN\n",
       "mat      80.0\n",
       "fen      90.0\n",
       "resim    75.0\n",
       "dtype: float64"
      ]
     },
     "execution_count": 39,
     "metadata": {},
     "output_type": "execute_result"
    }
   ],
   "source": [
    "seri_new = pd.Series(dict, index = ['resim','müzik','mat','fen','resim'])\n",
    "seri_new\n",
    "# NaN değerden dolayı dtype : float oldu\n",
    "# müzik key dict içinde olmadığı için NaN değer döndürdü."
   ]
  },
  {
   "cell_type": "code",
   "execution_count": null,
   "id": "3cb2df70-68c7-4c91-b00e-b2ef4bf8af42",
   "metadata": {},
   "outputs": [],
   "source": [
    "#scalar value"
   ]
  },
  {
   "cell_type": "code",
   "execution_count": 40,
   "id": "48a76db8-3e6e-4625-a85a-8e45d7dbe420",
   "metadata": {},
   "outputs": [
    {
     "data": {
      "text/plain": [
       "0    10\n",
       "dtype: int64"
      ]
     },
     "execution_count": 40,
     "metadata": {},
     "output_type": "execute_result"
    }
   ],
   "source": [
    "pd.Series([10])"
   ]
  },
  {
   "cell_type": "code",
   "execution_count": 41,
   "id": "a3d17d1e-c60c-4302-8a49-9a6dd2b211c6",
   "metadata": {},
   "outputs": [
    {
     "data": {
      "text/plain": [
       "1    10\n",
       "2    10\n",
       "3    10\n",
       "dtype: int64"
      ]
     },
     "execution_count": 41,
     "metadata": {},
     "output_type": "execute_result"
    }
   ],
   "source": [
    "pd.Series(10, index = [1,2,3])"
   ]
  },
  {
   "cell_type": "code",
   "execution_count": 43,
   "id": "2d386780-5e89-445f-af7e-f6fd6fc98297",
   "metadata": {},
   "outputs": [
    {
     "data": {
      "text/plain": [
       "0    pandas\n",
       "dtype: object"
      ]
     },
     "execution_count": 43,
     "metadata": {},
     "output_type": "execute_result"
    }
   ],
   "source": [
    "pd.Series('pandas')"
   ]
  },
  {
   "cell_type": "code",
   "execution_count": 44,
   "id": "64f38a70-a6a3-4050-8c75-4ac26c9d33ca",
   "metadata": {},
   "outputs": [],
   "source": [
    "#Concat"
   ]
  },
  {
   "cell_type": "code",
   "execution_count": 45,
   "id": "f97d9bdd-12b0-4bc7-993e-5173687ce72a",
   "metadata": {},
   "outputs": [
    {
     "data": {
      "text/plain": [
       "{'resim': 75, 'fen': 90, 'mat': 80}"
      ]
     },
     "execution_count": 45,
     "metadata": {},
     "output_type": "execute_result"
    }
   ],
   "source": [
    "dict"
   ]
  },
  {
   "cell_type": "code",
   "execution_count": 46,
   "id": "dd1f8971-a4a2-48b1-b79e-8c680f4d68ce",
   "metadata": {},
   "outputs": [
    {
     "data": {
      "text/plain": [
       "x       NaN\n",
       "fen    90.0\n",
       "mat    80.0\n",
       "dtype: float64"
      ]
     },
     "execution_count": 46,
     "metadata": {},
     "output_type": "execute_result"
    }
   ],
   "source": [
    "seri = pd.Series(dict,index = ('x','fen','mat'))\n",
    "seri"
   ]
  },
  {
   "cell_type": "code",
   "execution_count": 47,
   "id": "f53a9e61-2ddd-40c4-bab3-81408e27552b",
   "metadata": {},
   "outputs": [
    {
     "data": {
      "text/plain": [
       "x       NaN\n",
       "fen    90.0\n",
       "mat    80.0\n",
       "x       NaN\n",
       "fen    90.0\n",
       "mat    80.0\n",
       "dtype: float64"
      ]
     },
     "execution_count": 47,
     "metadata": {},
     "output_type": "execute_result"
    }
   ],
   "source": [
    "seri2 = pd.concat((seri,seri)) # tuple olarak yazabiliriz\n",
    "seri2"
   ]
  },
  {
   "cell_type": "code",
   "execution_count": 48,
   "id": "0424d8c4-0662-4d11-8eb3-fbf0a9eefd22",
   "metadata": {},
   "outputs": [
    {
     "data": {
      "text/plain": [
       "x       NaN\n",
       "fen    90.0\n",
       "mat    80.0\n",
       "x       NaN\n",
       "fen    90.0\n",
       "mat    80.0\n",
       "dtype: float64"
      ]
     },
     "execution_count": 48,
     "metadata": {},
     "output_type": "execute_result"
    }
   ],
   "source": [
    "seri2 = pd.concat([seri,seri]) # list olarak yazabiliriz\n",
    "seri2"
   ]
  },
  {
   "cell_type": "code",
   "execution_count": 49,
   "id": "d3bede10-32fe-4224-81aa-e0f137599129",
   "metadata": {},
   "outputs": [
    {
     "data": {
      "text/plain": [
       "0        356\n",
       "1        357\n",
       "2        358\n",
       "0      ahmet\n",
       "1       veli\n",
       "2     mehmet\n",
       "3    mustafa\n",
       "dtype: object"
      ]
     },
     "execution_count": 49,
     "metadata": {},
     "output_type": "execute_result"
    }
   ],
   "source": [
    "x = pd.Series([356,357,358])\n",
    "y = pd.Series(['ahmet','veli','mehmet','mustafa'])\n",
    "pd.concat((x,y))"
   ]
  },
  {
   "cell_type": "code",
   "execution_count": 52,
   "id": "a3c71aec-b753-40cd-b56b-ec2827c8d108",
   "metadata": {},
   "outputs": [
    {
     "data": {
      "text/html": [
       "<div>\n",
       "<style scoped>\n",
       "    .dataframe tbody tr th:only-of-type {\n",
       "        vertical-align: middle;\n",
       "    }\n",
       "\n",
       "    .dataframe tbody tr th {\n",
       "        vertical-align: top;\n",
       "    }\n",
       "\n",
       "    .dataframe thead th {\n",
       "        text-align: right;\n",
       "    }\n",
       "</style>\n",
       "<table border=\"1\" class=\"dataframe\">\n",
       "  <thead>\n",
       "    <tr style=\"text-align: right;\">\n",
       "      <th></th>\n",
       "      <th>0</th>\n",
       "      <th>1</th>\n",
       "    </tr>\n",
       "  </thead>\n",
       "  <tbody>\n",
       "    <tr>\n",
       "      <th>0</th>\n",
       "      <td>356.0</td>\n",
       "      <td>ahmet</td>\n",
       "    </tr>\n",
       "    <tr>\n",
       "      <th>1</th>\n",
       "      <td>357.0</td>\n",
       "      <td>veli</td>\n",
       "    </tr>\n",
       "    <tr>\n",
       "      <th>2</th>\n",
       "      <td>358.0</td>\n",
       "      <td>mehmet</td>\n",
       "    </tr>\n",
       "    <tr>\n",
       "      <th>3</th>\n",
       "      <td>NaN</td>\n",
       "      <td>mustafa</td>\n",
       "    </tr>\n",
       "  </tbody>\n",
       "</table>\n",
       "</div>"
      ],
      "text/plain": [
       "       0        1\n",
       "0  356.0    ahmet\n",
       "1  357.0     veli\n",
       "2  358.0   mehmet\n",
       "3    NaN  mustafa"
      ]
     },
     "execution_count": 52,
     "metadata": {},
     "output_type": "execute_result"
    }
   ],
   "source": [
    "x = pd.Series([356,357,358])\n",
    "y = pd.Series(['ahmet','veli','mehmet','mustafa'])\n",
    "pd.concat((x,y),axis = 1)"
   ]
  },
  {
   "cell_type": "code",
   "execution_count": null,
   "id": "93633d80-a8a7-4fa5-96b3-8427809777f3",
   "metadata": {},
   "outputs": [],
   "source": [
    "# indexing ve slicing with pandas serileri"
   ]
  },
  {
   "cell_type": "code",
   "execution_count": 53,
   "id": "67e967fa-8af3-492e-922e-5656280b9482",
   "metadata": {},
   "outputs": [
    {
     "data": {
      "text/plain": [
       "python    1\n",
       "git       2\n",
       "numpy     3\n",
       "pandas    4\n",
       "dtype: int64"
      ]
     },
     "execution_count": 53,
     "metadata": {},
     "output_type": "execute_result"
    }
   ],
   "source": [
    "seri = pd.Series([1,2,3,4],index = [\"python\",\"git\",\"numpy\",\"pandas\"])\n",
    "seri"
   ]
  },
  {
   "cell_type": "code",
   "execution_count": 54,
   "id": "04af1821-8391-4f08-8839-63704afe6a77",
   "metadata": {},
   "outputs": [
    {
     "data": {
      "text/plain": [
       "np.int64(4)"
      ]
     },
     "execution_count": 54,
     "metadata": {},
     "output_type": "execute_result"
    }
   ],
   "source": [
    "seri[3]"
   ]
  },
  {
   "cell_type": "code",
   "execution_count": 55,
   "id": "c54ed9d0-52a4-414c-bd23-8146ba412e82",
   "metadata": {},
   "outputs": [
    {
     "data": {
      "text/plain": [
       "np.int64(4)"
      ]
     },
     "execution_count": 55,
     "metadata": {},
     "output_type": "execute_result"
    }
   ],
   "source": [
    "seri['pandas']"
   ]
  },
  {
   "cell_type": "code",
   "execution_count": 56,
   "id": "d6206500-a77a-4f7c-87f7-2e97dd8d9729",
   "metadata": {},
   "outputs": [
    {
     "data": {
      "text/plain": [
       "'pandas'"
      ]
     },
     "execution_count": 56,
     "metadata": {},
     "output_type": "execute_result"
    }
   ],
   "source": [
    "seri.index[3]"
   ]
  },
  {
   "cell_type": "code",
   "execution_count": 57,
   "id": "5f573fc6-d274-49d2-bb18-eafd7a9aea42",
   "metadata": {},
   "outputs": [
    {
     "data": {
      "text/plain": [
       "np.int64(3)"
      ]
     },
     "execution_count": 57,
     "metadata": {},
     "output_type": "execute_result"
    }
   ],
   "source": [
    "seri[2]"
   ]
  },
  {
   "cell_type": "code",
   "execution_count": 58,
   "id": "4b08369e-bbc3-4558-8140-d0f060f640e6",
   "metadata": {},
   "outputs": [
    {
     "data": {
      "text/plain": [
       "numpy     3\n",
       "pandas    4\n",
       "dtype: int64"
      ]
     },
     "execution_count": 58,
     "metadata": {},
     "output_type": "execute_result"
    }
   ],
   "source": [
    "seri[2:]"
   ]
  },
  {
   "cell_type": "code",
   "execution_count": 59,
   "id": "505f247a-bdc3-4014-922b-6c2b846fb3e7",
   "metadata": {},
   "outputs": [
    {
     "data": {
      "text/plain": [
       "python    1\n",
       "git       2\n",
       "numpy     3\n",
       "pandas    4\n",
       "dtype: int64"
      ]
     },
     "execution_count": 59,
     "metadata": {},
     "output_type": "execute_result"
    }
   ],
   "source": [
    "seri"
   ]
  },
  {
   "cell_type": "code",
   "execution_count": 60,
   "id": "47877f3a-967b-47bd-805b-3de8782bd8c0",
   "metadata": {},
   "outputs": [
    {
     "data": {
      "text/plain": [
       "git      2\n",
       "numpy    3\n",
       "dtype: int64"
      ]
     },
     "execution_count": 60,
     "metadata": {},
     "output_type": "execute_result"
    }
   ],
   "source": [
    "seri[1:3]"
   ]
  },
  {
   "cell_type": "code",
   "execution_count": 62,
   "id": "670ab132-cb83-424e-b803-d1c96cb767ee",
   "metadata": {},
   "outputs": [
    {
     "data": {
      "text/plain": [
       "python    1\n",
       "pandas    4\n",
       "dtype: int64"
      ]
     },
     "execution_count": 62,
     "metadata": {},
     "output_type": "execute_result"
    }
   ],
   "source": [
    "seri[[0,3]] # birden fazla elemanı alırken parantez yazarız"
   ]
  },
  {
   "cell_type": "code",
   "execution_count": 63,
   "id": "41bb5258-18db-4248-bff2-126efc1f416e",
   "metadata": {},
   "outputs": [
    {
     "data": {
      "text/plain": [
       "np.int64(2)"
      ]
     },
     "execution_count": 63,
     "metadata": {},
     "output_type": "execute_result"
    }
   ],
   "source": [
    "seri['git'] # tek parantez ile sadece value dönerken"
   ]
  },
  {
   "cell_type": "code",
   "execution_count": 64,
   "id": "d3e05133-9756-4239-b5a8-5e7bcb1656fb",
   "metadata": {},
   "outputs": [
    {
     "data": {
      "text/plain": [
       "git    2\n",
       "dtype: int64"
      ]
     },
     "execution_count": 64,
     "metadata": {},
     "output_type": "execute_result"
    }
   ],
   "source": [
    "seri[['git']] # tek parantez ile sadece value dönerken"
   ]
  },
  {
   "cell_type": "code",
   "execution_count": 66,
   "id": "21a2cab1-f727-46a6-b4d2-bc155c613acb",
   "metadata": {},
   "outputs": [
    {
     "data": {
      "text/plain": [
       "git       2\n",
       "pandas    4\n",
       "dtype: int64"
      ]
     },
     "execution_count": 66,
     "metadata": {},
     "output_type": "execute_result"
    }
   ],
   "source": [
    "seri[['git','pandas']]"
   ]
  },
  {
   "cell_type": "code",
   "execution_count": 68,
   "id": "56621b70-3fbe-4af3-986f-6a824095abc9",
   "metadata": {},
   "outputs": [
    {
     "data": {
      "text/plain": [
       "git       2\n",
       "numpy     3\n",
       "pandas    4\n",
       "dtype: int64"
      ]
     },
     "execution_count": 68,
     "metadata": {},
     "output_type": "execute_result"
    }
   ],
   "source": [
    "seri['git':'pandas']\n",
    "# index label ile slicing yaparken bitiş noktası olan index index label da dahil edilir"
   ]
  },
  {
   "cell_type": "code",
   "execution_count": 69,
   "id": "f6fe3b3c-1256-49d5-bb04-46361bbd718e",
   "metadata": {},
   "outputs": [
    {
     "data": {
      "text/plain": [
       "python    1\n",
       "git       2\n",
       "numpy     3\n",
       "pandas    4\n",
       "dtype: int64"
      ]
     },
     "execution_count": 69,
     "metadata": {},
     "output_type": "execute_result"
    }
   ],
   "source": [
    "seri"
   ]
  },
  {
   "cell_type": "code",
   "execution_count": 70,
   "id": "c49035fb-bd14-4ef5-bd48-c8863beecb2f",
   "metadata": {},
   "outputs": [
    {
     "data": {
      "text/plain": [
       "python    1\n",
       "pandas    4\n",
       "numpy     3\n",
       "dtype: int64"
      ]
     },
     "execution_count": 70,
     "metadata": {},
     "output_type": "execute_result"
    }
   ],
   "source": [
    "seri[[0,3,2]]"
   ]
  },
  {
   "cell_type": "code",
   "execution_count": 71,
   "id": "0a097547-ec3f-49f5-a40f-a152dcedd12b",
   "metadata": {},
   "outputs": [
    {
     "data": {
      "text/plain": [
       "pandas    4\n",
       "numpy     3\n",
       "git       2\n",
       "python    1\n",
       "dtype: int64"
      ]
     },
     "execution_count": 71,
     "metadata": {},
     "output_type": "execute_result"
    }
   ],
   "source": [
    "seri[::-1]"
   ]
  },
  {
   "cell_type": "code",
   "execution_count": null,
   "id": "a24997cd-121b-448e-89b8-cb4bccbdc335",
   "metadata": {},
   "outputs": [],
   "source": [
    "# basic attributes ve methods of series"
   ]
  },
  {
   "cell_type": "code",
   "execution_count": 72,
   "id": "12841842-9b6a-4fa3-a781-f7b69b2b02eb",
   "metadata": {},
   "outputs": [
    {
     "data": {
      "text/plain": [
       "0    38\n",
       "1    28\n",
       "2    14\n",
       "3    42\n",
       "4     7\n",
       "5    20\n",
       "dtype: int32"
      ]
     },
     "execution_count": 72,
     "metadata": {},
     "output_type": "execute_result"
    }
   ],
   "source": [
    "np.random.seed(42)\n",
    "seri = pd.Series(np.random.randint(0,50,6))\n",
    "seri"
   ]
  },
  {
   "cell_type": "code",
   "execution_count": 73,
   "id": "e43fe3a0-259f-461e-b71a-ad91e7b9ea86",
   "metadata": {},
   "outputs": [
    {
     "data": {
      "text/plain": [
       "dtype('int32')"
      ]
     },
     "execution_count": 73,
     "metadata": {},
     "output_type": "execute_result"
    }
   ],
   "source": [
    "seri.dtype"
   ]
  },
  {
   "cell_type": "code",
   "execution_count": 74,
   "id": "9174712b-d08d-48be-aa25-201c266e8452",
   "metadata": {},
   "outputs": [
    {
     "data": {
      "text/plain": [
       "0    <class 'int'>\n",
       "1    <class 'int'>\n",
       "2    <class 'int'>\n",
       "3    <class 'int'>\n",
       "4    <class 'int'>\n",
       "5    <class 'int'>\n",
       "dtype: object"
      ]
     },
     "execution_count": 74,
     "metadata": {},
     "output_type": "execute_result"
    }
   ],
   "source": [
    "seri.apply(type)"
   ]
  },
  {
   "cell_type": "code",
   "execution_count": 75,
   "id": "e6be1c34-d818-45f8-b9f0-94455ce58197",
   "metadata": {},
   "outputs": [
    {
     "data": {
      "text/plain": [
       "6"
      ]
     },
     "execution_count": 75,
     "metadata": {},
     "output_type": "execute_result"
    }
   ],
   "source": [
    "seri.size"
   ]
  },
  {
   "cell_type": "code",
   "execution_count": 76,
   "id": "4d56505f-eda6-4839-a31c-3cbb954d0033",
   "metadata": {},
   "outputs": [
    {
     "data": {
      "text/plain": [
       "1"
      ]
     },
     "execution_count": 76,
     "metadata": {},
     "output_type": "execute_result"
    }
   ],
   "source": [
    "seri.ndim"
   ]
  },
  {
   "cell_type": "code",
   "execution_count": 77,
   "id": "b8940c47-97b0-4100-b808-e123a7d860a4",
   "metadata": {},
   "outputs": [
    {
     "data": {
      "text/plain": [
       "RangeIndex(start=0, stop=6, step=1)"
      ]
     },
     "execution_count": 77,
     "metadata": {},
     "output_type": "execute_result"
    }
   ],
   "source": [
    "seri.index"
   ]
  },
  {
   "cell_type": "code",
   "execution_count": 79,
   "id": "5199afb9-af3e-4731-bc7d-e3652aca83e8",
   "metadata": {},
   "outputs": [
    {
     "data": {
      "text/plain": [
       "array([38, 28, 14, 42,  7, 20], dtype=int32)"
      ]
     },
     "execution_count": 79,
     "metadata": {},
     "output_type": "execute_result"
    }
   ],
   "source": [
    "seri.values"
   ]
  },
  {
   "cell_type": "code",
   "execution_count": 78,
   "id": "9f65911a-c4d7-496a-9b53-bc66d680c21c",
   "metadata": {},
   "outputs": [
    {
     "data": {
      "text/plain": [
       "<bound method Series.items of 0    38\n",
       "1    28\n",
       "2    14\n",
       "3    42\n",
       "4     7\n",
       "5    20\n",
       "dtype: int32>"
      ]
     },
     "execution_count": 78,
     "metadata": {},
     "output_type": "execute_result"
    }
   ],
   "source": [
    "seri.items"
   ]
  },
  {
   "cell_type": "code",
   "execution_count": 82,
   "id": "f5fcb891-369b-4fb3-9e73-4ff2296bd406",
   "metadata": {},
   "outputs": [
    {
     "data": {
      "text/plain": [
       "[(0, 38), (1, 28), (2, 14), (3, 42), (4, 7), (5, 20)]"
      ]
     },
     "execution_count": 82,
     "metadata": {},
     "output_type": "execute_result"
    }
   ],
   "source": [
    "list(seri.items())"
   ]
  },
  {
   "cell_type": "code",
   "execution_count": 83,
   "id": "d49cbc23-31e7-4f25-8aee-23e11df57eca",
   "metadata": {},
   "outputs": [
    {
     "data": {
      "text/plain": [
       "0    38\n",
       "1    28\n",
       "2    14\n",
       "3    42\n",
       "4     7\n",
       "dtype: int32"
      ]
     },
     "execution_count": 83,
     "metadata": {},
     "output_type": "execute_result"
    }
   ],
   "source": [
    "seri.head() # default ilk 5 değeri döndürdü"
   ]
  },
  {
   "cell_type": "code",
   "execution_count": 84,
   "id": "0355f274-0eb4-4e75-bba7-95cbd28288cd",
   "metadata": {},
   "outputs": [
    {
     "data": {
      "text/plain": [
       "0    38\n",
       "1    28\n",
       "dtype: int32"
      ]
     },
     "execution_count": 84,
     "metadata": {},
     "output_type": "execute_result"
    }
   ],
   "source": [
    "seri.head(2)"
   ]
  },
  {
   "cell_type": "code",
   "execution_count": 85,
   "id": "45fd8ed9-cb12-4c46-8c37-5a4103ccf70c",
   "metadata": {},
   "outputs": [
    {
     "data": {
      "text/plain": [
       "1    28\n",
       "2    14\n",
       "3    42\n",
       "4     7\n",
       "5    20\n",
       "dtype: int32"
      ]
     },
     "execution_count": 85,
     "metadata": {},
     "output_type": "execute_result"
    }
   ],
   "source": [
    "seri.tail() # default son 5 değeri döndürdü"
   ]
  },
  {
   "cell_type": "code",
   "execution_count": 86,
   "id": "da9ca241-8629-4ad3-a7d7-0790be6d4dea",
   "metadata": {},
   "outputs": [
    {
     "data": {
      "text/plain": [
       "4     7\n",
       "5    20\n",
       "dtype: int32"
      ]
     },
     "execution_count": 86,
     "metadata": {},
     "output_type": "execute_result"
    }
   ],
   "source": [
    "seri.tail(2)"
   ]
  },
  {
   "cell_type": "code",
   "execution_count": 87,
   "id": "97f11001-a407-4157-b58c-7b214a034070",
   "metadata": {},
   "outputs": [
    {
     "data": {
      "text/plain": [
       "5    20\n",
       "dtype: int32"
      ]
     },
     "execution_count": 87,
     "metadata": {},
     "output_type": "execute_result"
    }
   ],
   "source": [
    "seri.sample() # rastgele 1 değer döndürdü"
   ]
  },
  {
   "cell_type": "code",
   "execution_count": 88,
   "id": "1c5af5f0-a2a8-4e6d-a499-8f2aafd24051",
   "metadata": {},
   "outputs": [
    {
     "data": {
      "text/plain": [
       "0    38\n",
       "1    28\n",
       "2    14\n",
       "dtype: int32"
      ]
     },
     "execution_count": 88,
     "metadata": {},
     "output_type": "execute_result"
    }
   ],
   "source": [
    "seri.sample(3)"
   ]
  },
  {
   "cell_type": "code",
   "execution_count": 90,
   "id": "e04a1021-e2bf-4c86-b1da-cd0490e830c9",
   "metadata": {},
   "outputs": [
    {
     "data": {
      "text/plain": [
       "0    38\n",
       "1    28\n",
       "2    14\n",
       "3    42\n",
       "4     7\n",
       "5    20\n",
       "dtype: int32"
      ]
     },
     "execution_count": 90,
     "metadata": {},
     "output_type": "execute_result"
    }
   ],
   "source": [
    "seri.sort_index(ascending = True) # default"
   ]
  },
  {
   "cell_type": "code",
   "execution_count": 91,
   "id": "e8c1a991-68df-465a-9e26-4e2ee9220dad",
   "metadata": {},
   "outputs": [
    {
     "data": {
      "text/plain": [
       "5    20\n",
       "4     7\n",
       "3    42\n",
       "2    14\n",
       "1    28\n",
       "0    38\n",
       "dtype: int32"
      ]
     },
     "execution_count": 91,
     "metadata": {},
     "output_type": "execute_result"
    }
   ],
   "source": [
    "seri.sort_index(ascending = False)"
   ]
  },
  {
   "cell_type": "code",
   "execution_count": 92,
   "id": "e3e7e24e-e124-433a-b2cb-a5d795d4098a",
   "metadata": {},
   "outputs": [
    {
     "data": {
      "text/plain": [
       "4     7\n",
       "2    14\n",
       "5    20\n",
       "1    28\n",
       "0    38\n",
       "3    42\n",
       "dtype: int32"
      ]
     },
     "execution_count": 92,
     "metadata": {},
     "output_type": "execute_result"
    }
   ],
   "source": [
    "seri.sort_values() #default ascending = True"
   ]
  },
  {
   "cell_type": "code",
   "execution_count": 94,
   "id": "31d7d31a-3ca8-4ef5-929f-78a44c10864a",
   "metadata": {},
   "outputs": [
    {
     "data": {
      "text/plain": [
       "3    42\n",
       "0    38\n",
       "1    28\n",
       "5    20\n",
       "2    14\n",
       "4     7\n",
       "dtype: int32"
      ]
     },
     "execution_count": 94,
     "metadata": {},
     "output_type": "execute_result"
    }
   ],
   "source": [
    "seri.sort_values(ascending = False)"
   ]
  },
  {
   "cell_type": "code",
   "execution_count": 95,
   "id": "adf6bd2b-dfef-4e6b-9859-bf1a9839e79d",
   "metadata": {},
   "outputs": [
    {
     "data": {
      "text/plain": [
       "3    42\n",
       "0    38\n",
       "1    28\n",
       "5    20\n",
       "2    14\n",
       "4     7\n",
       "dtype: int32"
      ]
     },
     "execution_count": 95,
     "metadata": {},
     "output_type": "execute_result"
    }
   ],
   "source": [
    "seri.sort_values(ascending = 0)"
   ]
  },
  {
   "cell_type": "code",
   "execution_count": 96,
   "id": "5ebe30f3-7e56-47cf-9432-9d3b93a7691a",
   "metadata": {},
   "outputs": [
    {
     "data": {
      "text/plain": [
       "4     7\n",
       "2    14\n",
       "5    20\n",
       "1    28\n",
       "0    38\n",
       "3    42\n",
       "dtype: int32"
      ]
     },
     "execution_count": 96,
     "metadata": {},
     "output_type": "execute_result"
    }
   ],
   "source": [
    "seri.sort_values(ascending = 1)"
   ]
  },
  {
   "cell_type": "code",
   "execution_count": 97,
   "id": "54cd3d25-4614-4140-a538-8897d1bcf7c9",
   "metadata": {},
   "outputs": [
    {
     "data": {
      "text/plain": [
       "0       Toyota\n",
       "1         Ford\n",
       "2          BMW\n",
       "3     Mercedes\n",
       "4         Audi\n",
       "5        Tesla\n",
       "6        Honda\n",
       "7       Nissan\n",
       "8    Chevrolet\n",
       "9      Hyundai\n",
       "dtype: object"
      ]
     },
     "execution_count": 97,
     "metadata": {},
     "output_type": "execute_result"
    }
   ],
   "source": [
    "car_brands = ['Toyota', 'Ford', 'BMW', 'Mercedes', 'Audi', 'Tesla', 'Honda', 'Nissan', 'Chevrolet', 'Hyundai']\n",
    "seri = pd.Series(car_brands)\n",
    "seri"
   ]
  },
  {
   "cell_type": "code",
   "execution_count": 98,
   "id": "bff8b136-cc7d-46ad-a154-6ab9b52c2e55",
   "metadata": {},
   "outputs": [
    {
     "data": {
      "text/plain": [
       "0     True\n",
       "1     True\n",
       "2    False\n",
       "3    False\n",
       "4    False\n",
       "5    False\n",
       "6    False\n",
       "7    False\n",
       "8    False\n",
       "9    False\n",
       "dtype: bool"
      ]
     },
     "execution_count": 98,
     "metadata": {},
     "output_type": "execute_result"
    }
   ],
   "source": [
    "seri.isin(['Toyota','Ford']) # True ve False araması yaptık"
   ]
  },
  {
   "cell_type": "code",
   "execution_count": 100,
   "id": "e9b10420-18b9-427d-9956-14cad15556ca",
   "metadata": {},
   "outputs": [
    {
     "data": {
      "text/plain": [
       "0    Toyota\n",
       "1      Ford\n",
       "dtype: object"
      ]
     },
     "execution_count": 100,
     "metadata": {},
     "output_type": "execute_result"
    }
   ],
   "source": [
    "seri[seri.isin(['Toyota','Ford'])]"
   ]
  },
  {
   "cell_type": "code",
   "execution_count": 101,
   "id": "0b16cc17-f536-460d-9b99-4bbdfc9ad5cf",
   "metadata": {},
   "outputs": [
    {
     "data": {
      "text/plain": [
       "0    False\n",
       "1    False\n",
       "2    False\n",
       "3    False\n",
       "4    False\n",
       "5    False\n",
       "6    False\n",
       "7    False\n",
       "8    False\n",
       "9    False\n",
       "dtype: bool"
      ]
     },
     "execution_count": 101,
     "metadata": {},
     "output_type": "execute_result"
    }
   ],
   "source": [
    "seri.isin([100,200])"
   ]
  },
  {
   "cell_type": "code",
   "execution_count": 102,
   "id": "f1d7c425-9ef9-477a-b5ea-48d9c9105e7c",
   "metadata": {},
   "outputs": [
    {
     "data": {
      "text/plain": [
       "Series([], dtype: object)"
      ]
     },
     "execution_count": 102,
     "metadata": {},
     "output_type": "execute_result"
    }
   ],
   "source": [
    "seri[seri.isin([100,200])]"
   ]
  },
  {
   "cell_type": "code",
   "execution_count": null,
   "id": "0f2055e0-2033-42c8-8e40-43356f2674c1",
   "metadata": {},
   "outputs": [],
   "source": [
    "# DataFrames"
   ]
  },
  {
   "cell_type": "code",
   "execution_count": null,
   "id": "f233e1ad-59e9-4284-82da-74cb8c291519",
   "metadata": {},
   "outputs": [],
   "source": []
  },
  {
   "cell_type": "code",
   "execution_count": null,
   "id": "3378656f-62da-4d40-8b7a-2bcdac3b3687",
   "metadata": {},
   "outputs": [],
   "source": []
  },
  {
   "cell_type": "code",
   "execution_count": null,
   "id": "3b5ee471-2f6d-4e90-ac2c-60b0361a5f41",
   "metadata": {},
   "outputs": [],
   "source": []
  },
  {
   "cell_type": "code",
   "execution_count": null,
   "id": "0b0a73d1-74b7-4f40-9bd8-20fed2653989",
   "metadata": {},
   "outputs": [],
   "source": []
  },
  {
   "cell_type": "code",
   "execution_count": null,
   "id": "8619cffb-0986-4599-819f-38cae76c0d76",
   "metadata": {},
   "outputs": [],
   "source": []
  },
  {
   "cell_type": "code",
   "execution_count": null,
   "id": "24046272-b8e0-4b17-989b-ad9dec53dde8",
   "metadata": {},
   "outputs": [],
   "source": []
  },
  {
   "cell_type": "code",
   "execution_count": null,
   "id": "3706b00a-ddbf-4067-8de8-a226804c31be",
   "metadata": {},
   "outputs": [],
   "source": []
  },
  {
   "cell_type": "code",
   "execution_count": null,
   "id": "20597ceb-c090-4af5-a3af-177f7d77378e",
   "metadata": {},
   "outputs": [],
   "source": []
  },
  {
   "cell_type": "code",
   "execution_count": null,
   "id": "19e05045-ede1-45db-a514-34f1ce7b619f",
   "metadata": {},
   "outputs": [],
   "source": []
  },
  {
   "cell_type": "code",
   "execution_count": null,
   "id": "be63f8ed-f7bf-43cc-98ef-0f0d849a4f3d",
   "metadata": {},
   "outputs": [],
   "source": []
  },
  {
   "cell_type": "code",
   "execution_count": null,
   "id": "0f8d1242-7436-40b9-b5bb-e77613e3e8a5",
   "metadata": {},
   "outputs": [],
   "source": []
  },
  {
   "cell_type": "code",
   "execution_count": null,
   "id": "45cea631-87de-4dea-9834-7e5fea05dada",
   "metadata": {},
   "outputs": [],
   "source": []
  },
  {
   "cell_type": "code",
   "execution_count": null,
   "id": "b8a5d5e2-7336-44ed-90fb-cf378b32f13c",
   "metadata": {},
   "outputs": [],
   "source": []
  },
  {
   "cell_type": "code",
   "execution_count": null,
   "id": "72b06520-d74a-428f-80d2-9f30c8b04cb3",
   "metadata": {},
   "outputs": [],
   "source": []
  },
  {
   "cell_type": "code",
   "execution_count": null,
   "id": "9d6d0ff6-e8ba-432a-94cd-fbe433426621",
   "metadata": {},
   "outputs": [],
   "source": []
  },
  {
   "cell_type": "code",
   "execution_count": null,
   "id": "dc02c312-04ac-492d-afcd-14af5a65338c",
   "metadata": {},
   "outputs": [],
   "source": []
  },
  {
   "cell_type": "code",
   "execution_count": null,
   "id": "78704007-f85e-440e-9727-72bc9fec4ad0",
   "metadata": {},
   "outputs": [],
   "source": []
  },
  {
   "cell_type": "code",
   "execution_count": null,
   "id": "d7197627-600e-4d48-9c44-c69b608ad124",
   "metadata": {},
   "outputs": [],
   "source": []
  },
  {
   "cell_type": "code",
   "execution_count": null,
   "id": "cb69658e-41f8-490b-863b-ea5666667621",
   "metadata": {},
   "outputs": [],
   "source": []
  },
  {
   "cell_type": "code",
   "execution_count": null,
   "id": "52bcc2e3-c7ab-4600-9133-cae7c0333b16",
   "metadata": {},
   "outputs": [],
   "source": []
  },
  {
   "cell_type": "code",
   "execution_count": null,
   "id": "78399d3c-a352-47a7-b9aa-0d91d8429f5f",
   "metadata": {},
   "outputs": [],
   "source": []
  },
  {
   "cell_type": "code",
   "execution_count": null,
   "id": "90229001-6d20-43a3-a92e-a66d1fd32992",
   "metadata": {},
   "outputs": [],
   "source": []
  },
  {
   "cell_type": "code",
   "execution_count": null,
   "id": "45dd6ed8-39bf-4e09-aa68-feaed83a76c4",
   "metadata": {},
   "outputs": [],
   "source": []
  },
  {
   "cell_type": "code",
   "execution_count": null,
   "id": "8b5c9767-86bd-4661-8af3-c9d174327f2f",
   "metadata": {},
   "outputs": [],
   "source": []
  },
  {
   "cell_type": "code",
   "execution_count": null,
   "id": "da683a0c-553b-41d8-b846-65742ef41444",
   "metadata": {},
   "outputs": [],
   "source": []
  },
  {
   "cell_type": "code",
   "execution_count": null,
   "id": "60f18d7f-f7bc-4a9e-8cba-cda456207ea4",
   "metadata": {},
   "outputs": [],
   "source": []
  },
  {
   "cell_type": "code",
   "execution_count": null,
   "id": "8fb8edc5-a4c6-49a2-b726-b13af03c2910",
   "metadata": {},
   "outputs": [],
   "source": []
  },
  {
   "cell_type": "code",
   "execution_count": null,
   "id": "41941635-fc76-4d9f-bea4-85dc3600972a",
   "metadata": {},
   "outputs": [],
   "source": []
  }
 ],
 "metadata": {
  "kernelspec": {
   "display_name": "Python 3 (ipykernel)",
   "language": "python",
   "name": "python3"
  },
  "language_info": {
   "codemirror_mode": {
    "name": "ipython",
    "version": 3
   },
   "file_extension": ".py",
   "mimetype": "text/x-python",
   "name": "python",
   "nbconvert_exporter": "python",
   "pygments_lexer": "ipython3",
   "version": "3.13.5"
  }
 },
 "nbformat": 4,
 "nbformat_minor": 5
}
